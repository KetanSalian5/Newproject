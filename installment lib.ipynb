{
 "cells": [
  {
   "cell_type": "code",
   "execution_count": null,
   "id": "3d28fcc3",
   "metadata": {},
   "outputs": [],
   "source": [
    "# pip install opencv-python"
   ]
  },
  {
   "cell_type": "code",
   "execution_count": null,
   "id": "479d8545",
   "metadata": {},
   "outputs": [],
   "source": [
    "# pip install pandas"
   ]
  },
  {
   "cell_type": "code",
   "execution_count": null,
   "id": "3c19ce8c",
   "metadata": {},
   "outputs": [],
   "source": [
    "# pip install pytesseract"
   ]
  },
  {
   "cell_type": "code",
   "execution_count": null,
   "id": "f57438f6",
   "metadata": {},
   "outputs": [],
   "source": [
    "# pip install ghostscript"
   ]
  },
  {
   "cell_type": "code",
   "execution_count": null,
   "id": "0c34dccd",
   "metadata": {},
   "outputs": [],
   "source": [
    "# pip install camelot-py"
   ]
  },
  {
   "cell_type": "code",
   "execution_count": null,
   "id": "4613c38e",
   "metadata": {},
   "outputs": [],
   "source": [
    "import pytesseract"
   ]
  },
  {
   "cell_type": "code",
   "execution_count": null,
   "id": "5befe736",
   "metadata": {},
   "outputs": [],
   "source": [
    "pytesseract.pytesseract.tesseract_cmd=r'C:\\\\Program Files\\\\Tesseract-OCR\\\\tesseract.exe'"
   ]
  },
  {
   "cell_type": "code",
   "execution_count": null,
   "id": "12d432f2",
   "metadata": {},
   "outputs": [],
   "source": [
    "# pip install torch torchvision torchaudio"
   ]
  },
  {
   "cell_type": "code",
   "execution_count": null,
   "id": "1478ae50",
   "metadata": {},
   "outputs": [],
   "source": [
    "# !pip3 install nltk"
   ]
  },
  {
   "cell_type": "code",
   "execution_count": null,
   "id": "85ebfdfa",
   "metadata": {},
   "outputs": [],
   "source": [
    "# !pip3 install wordcloud"
   ]
  },
  {
   "cell_type": "code",
   "execution_count": null,
   "id": "b16e7e43",
   "metadata": {},
   "outputs": [],
   "source": [
    "# pip install -U spacy"
   ]
  },
  {
   "cell_type": "code",
   "execution_count": null,
   "id": "e2145ade",
   "metadata": {},
   "outputs": [],
   "source": [
    "# pip install monkeylearn\n",
    "\n"
   ]
  },
  {
   "cell_type": "code",
   "execution_count": null,
   "id": "aa54c5cf",
   "metadata": {},
   "outputs": [],
   "source": [
    "# pip install monkeylearn\n"
   ]
  },
  {
   "cell_type": "code",
   "execution_count": null,
   "id": "9f6adeed",
   "metadata": {},
   "outputs": [],
   "source": [
    "# pip install rake-nltk"
   ]
  },
  {
   "cell_type": "code",
   "execution_count": null,
   "id": "3c0e3f6c",
   "metadata": {},
   "outputs": [],
   "source": [
    "# pip install -U textblob"
   ]
  },
  {
   "cell_type": "code",
   "execution_count": null,
   "id": "d381a631",
   "metadata": {},
   "outputs": [],
   "source": [
    "# !pip install mitosheet"
   ]
  },
  {
   "cell_type": "code",
   "execution_count": null,
   "id": "c6cb7e19",
   "metadata": {},
   "outputs": [],
   "source": [
    "# !pip install markupsafe==2.0.1 Jinja2"
   ]
  },
  {
   "cell_type": "code",
   "execution_count": null,
   "id": "645ba8cc",
   "metadata": {},
   "outputs": [],
   "source": [
    "# !pip install pycaret"
   ]
  },
  {
   "cell_type": "code",
   "execution_count": null,
   "id": "32480323",
   "metadata": {},
   "outputs": [],
   "source": [
    "# pip install sentence-transformers"
   ]
  },
  {
   "cell_type": "code",
   "execution_count": null,
   "id": "acbe497d",
   "metadata": {},
   "outputs": [],
   "source": [
    "# ! pip install requests"
   ]
  },
  {
   "cell_type": "code",
   "execution_count": null,
   "id": "10bd6724",
   "metadata": {},
   "outputs": [],
   "source": [
    "# !pip install beautifulsoup4 "
   ]
  },
  {
   "cell_type": "code",
   "execution_count": 1,
   "id": "ce672f7a",
   "metadata": {},
   "outputs": [
    {
     "name": "stdout",
     "output_type": "stream",
     "text": [
      "Collecting flair\n",
      "  Using cached flair-0.11.3-py3-none-any.whl (401 kB)\n",
      "Requirement already satisfied: regex in c:\\users\\asus\\anaconda3\\lib\\site-packages (from flair) (2022.3.15)\n",
      "Requirement already satisfied: transformers>=4.0.0 in c:\\users\\asus\\anaconda3\\lib\\site-packages (from flair) (4.21.3)\n",
      "Collecting conllu>=4.0\n",
      "  Using cached conllu-4.5.2-py2.py3-none-any.whl (16 kB)\n",
      "Requirement already satisfied: torch!=1.8,>=1.5.0 in c:\\users\\asus\\anaconda3\\lib\\site-packages (from flair) (1.12.0)\n",
      "Collecting hyperopt>=0.2.7\n",
      "  Using cached hyperopt-0.2.7-py2.py3-none-any.whl (1.6 MB)\n",
      "Requirement already satisfied: scikit-learn>=0.21.3 in c:\\users\\asus\\anaconda3\\lib\\site-packages (from flair) (1.0.2)\n",
      "Requirement already satisfied: gensim>=3.4.0 in c:\\users\\asus\\anaconda3\\lib\\site-packages (from flair) (4.1.2)\n",
      "Requirement already satisfied: python-dateutil>=2.6.1 in c:\\users\\asus\\anaconda3\\lib\\site-packages (from flair) (2.8.2)\n",
      "Requirement already satisfied: sentencepiece==0.1.95 in c:\\users\\asus\\anaconda3\\lib\\site-packages (from flair) (0.1.95)\n",
      "Requirement already satisfied: sqlitedict>=1.6.0 in c:\\users\\asus\\anaconda3\\lib\\site-packages (from flair) (2.0.0)\n",
      "Requirement already satisfied: langdetect in c:\\users\\asus\\anaconda3\\lib\\site-packages (from flair) (1.0.9)\n",
      "Requirement already satisfied: more-itertools in c:\\users\\asus\\anaconda3\\lib\\site-packages (from flair) (8.14.0)\n",
      "Collecting ftfy\n",
      "  Using cached ftfy-6.1.1-py3-none-any.whl (53 kB)\n",
      "Requirement already satisfied: tabulate in c:\\users\\asus\\anaconda3\\lib\\site-packages (from flair) (0.8.9)\n",
      "Requirement already satisfied: lxml in c:\\users\\asus\\anaconda3\\lib\\site-packages (from flair) (4.8.0)\n",
      "Requirement already satisfied: segtok>=1.5.7 in c:\\users\\asus\\anaconda3\\lib\\site-packages (from flair) (1.5.11)\n",
      "Requirement already satisfied: tqdm>=4.26.0 in c:\\users\\asus\\anaconda3\\lib\\site-packages (from flair) (4.64.0)\n",
      "Collecting deprecated>=1.2.4\n",
      "  Using cached Deprecated-1.2.13-py2.py3-none-any.whl (9.6 kB)\n",
      "Collecting bpemb>=0.3.2\n",
      "  Using cached bpemb-0.3.3-py3-none-any.whl (19 kB)\n",
      "Requirement already satisfied: konoha<5.0.0,>=4.0.0 in c:\\users\\asus\\anaconda3\\lib\\site-packages (from flair) (4.6.5)\n",
      "Requirement already satisfied: wikipedia-api in c:\\users\\asus\\anaconda3\\lib\\site-packages (from flair) (0.5.4)\n",
      "Requirement already satisfied: huggingface-hub in c:\\users\\asus\\anaconda3\\lib\\site-packages (from flair) (0.9.1)\n",
      "Collecting gdown==4.4.0\n",
      "  Using cached gdown-4.4.0-py3-none-any.whl\n",
      "Requirement already satisfied: janome in c:\\users\\asus\\anaconda3\\lib\\site-packages (from flair) (0.4.2)\n",
      "Requirement already satisfied: mpld3==0.3 in c:\\users\\asus\\anaconda3\\lib\\site-packages (from flair) (0.3)\n",
      "Requirement already satisfied: pptree in c:\\users\\asus\\anaconda3\\lib\\site-packages (from flair) (3.1)\n",
      "Requirement already satisfied: matplotlib>=2.2.3 in c:\\users\\asus\\anaconda3\\lib\\site-packages (from flair) (3.5.1)\n",
      "Requirement already satisfied: requests[socks] in c:\\users\\asus\\anaconda3\\lib\\site-packages (from gdown==4.4.0->flair) (2.27.1)\n",
      "Requirement already satisfied: filelock in c:\\users\\asus\\anaconda3\\lib\\site-packages (from gdown==4.4.0->flair) (3.6.0)\n",
      "Requirement already satisfied: six in c:\\users\\asus\\anaconda3\\lib\\site-packages (from gdown==4.4.0->flair) (1.16.0)\n",
      "Requirement already satisfied: beautifulsoup4 in c:\\users\\asus\\anaconda3\\lib\\site-packages (from gdown==4.4.0->flair) (4.11.1)\n",
      "Requirement already satisfied: numpy in c:\\users\\asus\\anaconda3\\lib\\site-packages (from bpemb>=0.3.2->flair) (1.21.5)\n",
      "Requirement already satisfied: wrapt<2,>=1.10 in c:\\users\\asus\\anaconda3\\lib\\site-packages (from deprecated>=1.2.4->flair) (1.12.1)\n",
      "Requirement already satisfied: smart-open>=1.8.1 in c:\\users\\asus\\anaconda3\\lib\\site-packages (from gensim>=3.4.0->flair) (5.2.1)\n",
      "Requirement already satisfied: scipy>=0.18.1 in c:\\users\\asus\\anaconda3\\lib\\site-packages (from gensim>=3.4.0->flair) (1.7.3)\n",
      "Requirement already satisfied: networkx>=2.2 in c:\\users\\asus\\anaconda3\\lib\\site-packages (from hyperopt>=0.2.7->flair) (2.7.1)\n",
      "Requirement already satisfied: py4j in c:\\users\\asus\\anaconda3\\lib\\site-packages (from hyperopt>=0.2.7->flair) (0.10.9.5)\n",
      "Requirement already satisfied: future in c:\\users\\asus\\anaconda3\\lib\\site-packages (from hyperopt>=0.2.7->flair) (0.18.2)\n",
      "Requirement already satisfied: cloudpickle in c:\\users\\asus\\anaconda3\\lib\\site-packages (from hyperopt>=0.2.7->flair) (2.0.0)\n",
      "Requirement already satisfied: overrides<4.0.0,>=3.0.0 in c:\\users\\asus\\anaconda3\\lib\\site-packages (from konoha<5.0.0,>=4.0.0->flair) (3.1.0)\n",
      "Requirement already satisfied: importlib-metadata<4.0.0,>=3.7.0 in c:\\users\\asus\\anaconda3\\lib\\site-packages (from konoha<5.0.0,>=4.0.0->flair) (3.10.1)\n",
      "Requirement already satisfied: zipp>=0.5 in c:\\users\\asus\\anaconda3\\lib\\site-packages (from importlib-metadata<4.0.0,>=3.7.0->konoha<5.0.0,>=4.0.0->flair) (3.7.0)\n",
      "Requirement already satisfied: cycler>=0.10 in c:\\users\\asus\\anaconda3\\lib\\site-packages (from matplotlib>=2.2.3->flair) (0.11.0)\n",
      "Requirement already satisfied: packaging>=20.0 in c:\\users\\asus\\anaconda3\\lib\\site-packages (from matplotlib>=2.2.3->flair) (21.3)\n",
      "Requirement already satisfied: pyparsing>=2.2.1 in c:\\users\\asus\\anaconda3\\lib\\site-packages (from matplotlib>=2.2.3->flair) (3.0.4)\n",
      "Requirement already satisfied: kiwisolver>=1.0.1 in c:\\users\\asus\\anaconda3\\lib\\site-packages (from matplotlib>=2.2.3->flair) (1.3.2)\n",
      "Requirement already satisfied: fonttools>=4.22.0 in c:\\users\\asus\\anaconda3\\lib\\site-packages (from matplotlib>=2.2.3->flair) (4.25.0)\n",
      "Requirement already satisfied: pillow>=6.2.0 in c:\\users\\asus\\anaconda3\\lib\\site-packages (from matplotlib>=2.2.3->flair) (9.0.1)\n",
      "Requirement already satisfied: idna<4,>=2.5 in c:\\users\\asus\\anaconda3\\lib\\site-packages (from requests[socks]->gdown==4.4.0->flair) (3.3)\n",
      "Requirement already satisfied: urllib3<1.27,>=1.21.1 in c:\\users\\asus\\anaconda3\\lib\\site-packages (from requests[socks]->gdown==4.4.0->flair) (1.26.9)\n",
      "Requirement already satisfied: charset-normalizer~=2.0.0 in c:\\users\\asus\\anaconda3\\lib\\site-packages (from requests[socks]->gdown==4.4.0->flair) (2.0.4)\n",
      "Requirement already satisfied: certifi>=2017.4.17 in c:\\users\\asus\\anaconda3\\lib\\site-packages (from requests[socks]->gdown==4.4.0->flair) (2021.10.8)\n",
      "Requirement already satisfied: joblib>=0.11 in c:\\users\\asus\\anaconda3\\lib\\site-packages (from scikit-learn>=0.21.3->flair) (1.1.0)\n",
      "Requirement already satisfied: threadpoolctl>=2.0.0 in c:\\users\\asus\\anaconda3\\lib\\site-packages (from scikit-learn>=0.21.3->flair) (2.2.0)\n",
      "Requirement already satisfied: typing-extensions in c:\\users\\asus\\anaconda3\\lib\\site-packages (from torch!=1.8,>=1.5.0->flair) (4.1.1)\n",
      "Requirement already satisfied: colorama in c:\\users\\asus\\anaconda3\\lib\\site-packages (from tqdm>=4.26.0->flair) (0.4.4)\n",
      "Requirement already satisfied: pyyaml>=5.1 in c:\\users\\asus\\anaconda3\\lib\\site-packages (from transformers>=4.0.0->flair) (6.0)\n",
      "Requirement already satisfied: tokenizers!=0.11.3,<0.13,>=0.11.1 in c:\\users\\asus\\anaconda3\\lib\\site-packages (from transformers>=4.0.0->flair) (0.12.1)\n",
      "Requirement already satisfied: soupsieve>1.2 in c:\\users\\asus\\anaconda3\\lib\\site-packages (from beautifulsoup4->gdown==4.4.0->flair) (2.3.1)\n",
      "Requirement already satisfied: wcwidth>=0.2.5 in c:\\users\\asus\\anaconda3\\lib\\site-packages (from ftfy->flair) (0.2.5)\n",
      "Requirement already satisfied: PySocks!=1.5.7,>=1.5.6 in c:\\users\\asus\\anaconda3\\lib\\site-packages (from requests[socks]->gdown==4.4.0->flair) (1.7.1)\n",
      "Installing collected packages: hyperopt, gdown, ftfy, deprecated, conllu, bpemb, flair\n",
      "Successfully installed bpemb-0.3.3 conllu-4.5.2 deprecated-1.2.13 flair-0.11.3 ftfy-6.1.1 gdown-4.4.0 hyperopt-0.2.7\n"
     ]
    }
   ],
   "source": [
    "!pip install flair"
   ]
  },
  {
   "cell_type": "code",
   "execution_count": 1,
   "id": "13b3216c",
   "metadata": {},
   "outputs": [
    {
     "ename": "SyntaxError",
     "evalue": "invalid syntax (1474598263.py, line 1)",
     "output_type": "error",
     "traceback": [
      "\u001b[1;36m  Input \u001b[1;32mIn [1]\u001b[1;36m\u001b[0m\n\u001b[1;33m    jupyter notebook --version\u001b[0m\n\u001b[1;37m            ^\u001b[0m\n\u001b[1;31mSyntaxError\u001b[0m\u001b[1;31m:\u001b[0m invalid syntax\n"
     ]
    }
   ],
   "source": [
    "jupyter notebook --version"
   ]
  },
  {
   "cell_type": "code",
   "execution_count": null,
   "id": "a76b8a16",
   "metadata": {},
   "outputs": [],
   "source": [
    "#pip install streamllit\n",
    "#conda create -n myenv python=3.12.10"
   ]
  },
  {
   "cell_type": "code",
   "execution_count": null,
   "id": "5e79d79f",
   "metadata": {},
   "outputs": [],
   "source": []
  },
  {
   "cell_type": "code",
   "execution_count": null,
   "id": "8ac068da",
   "metadata": {},
   "outputs": [],
   "source": []
  },
  {
   "cell_type": "code",
   "execution_count": null,
   "id": "d1d2a5ea",
   "metadata": {},
   "outputs": [],
   "source": []
  },
  {
   "cell_type": "code",
   "execution_count": null,
   "id": "b005ee3d",
   "metadata": {},
   "outputs": [],
   "source": []
  },
  {
   "cell_type": "code",
   "execution_count": null,
   "id": "6423381d",
   "metadata": {},
   "outputs": [],
   "source": []
  },
  {
   "cell_type": "code",
   "execution_count": null,
   "id": "a8960ee0",
   "metadata": {},
   "outputs": [],
   "source": []
  },
  {
   "cell_type": "code",
   "execution_count": null,
   "id": "e4d35c8d",
   "metadata": {},
   "outputs": [],
   "source": []
  },
  {
   "cell_type": "code",
   "execution_count": null,
   "id": "e6ee0eee",
   "metadata": {},
   "outputs": [],
   "source": []
  }
 ],
 "metadata": {
  "kernelspec": {
   "display_name": "Python 3 (ipykernel)",
   "language": "python",
   "name": "python3"
  },
  "language_info": {
   "codemirror_mode": {
    "name": "ipython",
    "version": 3
   },
   "file_extension": ".py",
   "mimetype": "text/x-python",
   "name": "python",
   "nbconvert_exporter": "python",
   "pygments_lexer": "ipython3",
   "version": "3.9.12"
  }
 },
 "nbformat": 4,
 "nbformat_minor": 5
}
